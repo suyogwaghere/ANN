{
  "nbformat": 4,
  "nbformat_minor": 0,
  "metadata": {
    "colab": {
      "provenance": []
    },
    "kernelspec": {
      "name": "python3",
      "display_name": "Python 3"
    },
    "language_info": {
      "name": "python"
    }
  },
  "cells": [
    {
      "cell_type": "code",
      "execution_count": 1,
      "metadata": {
        "colab": {
          "base_uri": "https://localhost:8080/"
        },
        "id": "TGs5dB6e8bxP",
        "outputId": "9f1426e0-36ce-47a2-ffd9-6efa7070928a"
      },
      "outputs": [
        {
          "output_type": "stream",
          "name": "stdout",
          "text": [
            "Pattern: [1 0 1 0 1]\n",
            "Winner: 1\n",
            "Weights: [[0. 0. 0. 0. 0.]\n",
            " [1. 0. 1. 0. 1.]]\n",
            "\n",
            "Pattern: [0 1 0 1 0]\n",
            "Winner: 2\n",
            "Weights: [[0. 0. 0. 0. 0.]\n",
            " [1. 0. 1. 0. 1.]\n",
            " [0. 1. 0. 1. 0.]]\n",
            "\n",
            "Pattern: [1 1 0 1 1]\n",
            "Winner: 3\n",
            "Weights: [[0. 0. 0. 0. 0.]\n",
            " [1. 0. 1. 0. 1.]\n",
            " [0. 1. 0. 1. 0.]\n",
            " [1. 1. 0. 1. 1.]]\n",
            "\n",
            "Pattern: [1 0 0 1 0]\n",
            "Winner: 4\n",
            "Weights: [[0. 0. 0. 0. 0.]\n",
            " [1. 0. 1. 0. 1.]\n",
            " [0. 1. 0. 1. 0.]\n",
            " [1. 1. 0. 1. 1.]\n",
            " [1. 0. 0. 1. 0.]]\n",
            "\n",
            "Pattern: [0 1 1 0 1]\n",
            "Winner: 5\n",
            "Weights: [[0. 0. 0. 0. 0.]\n",
            " [1. 0. 1. 0. 1.]\n",
            " [0. 1. 0. 1. 0.]\n",
            " [1. 1. 0. 1. 1.]\n",
            " [1. 0. 0. 1. 0.]\n",
            " [0. 1. 1. 0. 1.]]\n",
            "\n"
          ]
        },
        {
          "output_type": "stream",
          "name": "stderr",
          "text": [
            "<ipython-input-1-718170019f30>:10: RuntimeWarning: invalid value encountered in true_divide\n",
            "  return x / np.sum(x)\n"
          ]
        }
      ],
      "source": [
        "import numpy as np\n",
        "\n",
        "class ART:\n",
        "    def __init__(self, input_size, vigilance):\n",
        "        self.input_size = input_size\n",
        "        self.vigilance = vigilance\n",
        "        self.weights = np.zeros((1, input_size))\n",
        "\n",
        "    def normalize(self, x):\n",
        "        return x / np.sum(x)\n",
        "\n",
        "    def match(self, x):\n",
        "        while True:\n",
        "            net_input = np.dot(self.weights, x)\n",
        "            net_input_norm = self.normalize(net_input)\n",
        "            winner_index = np.argmax(net_input_norm)\n",
        "\n",
        "            if net_input_norm[winner_index] >= self.vigilance:\n",
        "                return winner_index\n",
        "            else:\n",
        "                self.weights = np.vstack([self.weights, x])\n",
        "                return self.weights.shape[0] - 1\n",
        "\n",
        "# Example usage\n",
        "input_size = 5\n",
        "vigilance = 0.9\n",
        "\n",
        "art = ART(input_size, vigilance)\n",
        "\n",
        "# Training data\n",
        "data = np.array([[1, 0, 1, 0, 1],\n",
        "                 [0, 1, 0, 1, 0],\n",
        "                 [1, 1, 0, 1, 1]])\n",
        "\n",
        "# Train the ART network\n",
        "for pattern in data:\n",
        "    winner = art.match(pattern)\n",
        "    print(\"Pattern:\", pattern)\n",
        "    print(\"Winner:\", winner)\n",
        "    print(\"Weights:\", art.weights)\n",
        "    print()\n",
        "\n",
        "# Test the ART network\n",
        "test_data = np.array([[1, 0, 0, 1, 0],\n",
        "                      [0, 1, 1, 0, 1]])\n",
        "\n",
        "for pattern in test_data:\n",
        "    winner = art.match(pattern)\n",
        "    print(\"Pattern:\", pattern)\n",
        "    print(\"Winner:\", winner)\n",
        "    print(\"Weights:\", art.weights)\n",
        "    print()"
      ]
    }
  ]
}