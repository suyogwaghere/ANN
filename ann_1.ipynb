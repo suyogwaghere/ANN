{
  "nbformat": 4,
  "nbformat_minor": 0,
  "metadata": {
    "colab": {
      "provenance": []
    },
    "kernelspec": {
      "name": "python3",
      "display_name": "Python 3"
    },
    "language_info": {
      "name": "python"
    }
  },
  "cells": [
    {
      "cell_type": "code",
      "execution_count": null,
      "metadata": {
        "colab": {
          "base_uri": "https://localhost:8080/"
        },
        "id": "B-LRRwv3sGsp",
        "outputId": "d9a46c11-ce3b-4546-cc25-f2d372d114b5"
      },
      "outputs": [
        {
          "output_type": "stream",
          "name": "stdout",
          "text": [
            "tf.Tensor([0.26894143 0.5        0.7310586 ], shape=(3,), dtype=float32)\n"
          ]
        }
      ],
      "source": [
        "import tensorflow as tf\n",
        "from tensorflow.keras.activations import sigmoid\n",
        " \n",
        "input_array = tf.constant([-1, 0, 1], dtype=tf.float32)\n",
        "print (sigmoid(input_array))"
      ]
    },
    {
      "cell_type": "code",
      "source": [
        "import tensorflow as tf\n",
        "from tensorflow.keras.activations import tanh\n",
        "\n",
        "input_array = tf.constant([-1, 0, 1], dtype=tf.float32)\n",
        "print (tanh(input_array))"
      ],
      "metadata": {
        "colab": {
          "base_uri": "https://localhost:8080/"
        },
        "id": "661Kw3Y_sPcR",
        "outputId": "403f414b-9c87-4750-a241-e674971157be"
      },
      "execution_count": null,
      "outputs": [
        {
          "output_type": "stream",
          "name": "stdout",
          "text": [
            "tf.Tensor([-0.7615942  0.         0.7615942], shape=(3,), dtype=float32)\n"
          ]
        }
      ]
    },
    {
      "cell_type": "code",
      "source": [
        "import tensorflow as tf\n",
        "from tensorflow.keras.activations import relu\n",
        " \n",
        "input_array = tf.constant([-1, 0, 1], dtype=tf.float32)\n",
        "print (relu(input_array))"
      ],
      "metadata": {
        "colab": {
          "base_uri": "https://localhost:8080/"
        },
        "id": "5Jb5QgwAsPeo",
        "outputId": "fc90e103-5dd7-4f7e-a86f-fde0baada2f8"
      },
      "execution_count": null,
      "outputs": [
        {
          "output_type": "stream",
          "name": "stdout",
          "text": [
            "tf.Tensor([0. 0. 1.], shape=(3,), dtype=float32)\n"
          ]
        }
      ]
    },
    {
      "cell_type": "code",
      "source": [
        "import tensorflow as tf\n",
        "import tensorflow.keras as keras\n",
        "from tensorflow.keras.layers import Dense, Input, Flatten, Conv2D, BatchNormalization, MaxPool2D\n",
        "from tensorflow.keras.models import Model\n",
        " \n",
        "(trainX, trainY), (testX, testY) = keras.datasets.cifar10.load_data()\n",
        " \n",
        "input_layer = Input(shape=(32,32,3,))\n",
        "x = Conv2D(filters=6, kernel_size=(5,5), padding=\"same\", activation=\"relu\")(input_layer)\n",
        "x = MaxPool2D(pool_size=(2,2))(x)\n",
        "x = Conv2D(filters=16, kernel_size=(5,5), padding=\"same\", activation=\"relu\")(x)\n",
        "x = MaxPool2D(pool_size=(2, 2))(x)\n",
        "x = Conv2D(filters=120, kernel_size=(5,5), padding=\"same\", activation=\"relu\")(x)\n",
        "x = Flatten()(x)\n",
        "x = Dense(units=84, activation=\"relu\")(x)\n",
        "x = Dense(units=10, activation=\"softmax\")(x)\n",
        " \n",
        "model = Model(inputs=input_layer, outputs=x)\n",
        " \n",
        "print(model.summary())\n",
        " \n",
        "model.compile(optimizer=\"adam\", loss=tf.keras.losses.SparseCategoricalCrossentropy(), metrics=\"acc\")\n",
        " \n",
        "history = model.fit(x=trainX, y=trainY, batch_size=256, epochs=10, validation_data=(testX, testY))"
      ],
      "metadata": {
        "colab": {
          "base_uri": "https://localhost:8080/"
        },
        "id": "PpUG3a9Usgd1",
        "outputId": "2be939be-8034-4234-9516-475365042fc8"
      },
      "execution_count": null,
      "outputs": [
        {
          "output_type": "stream",
          "name": "stdout",
          "text": [
            "Model: \"model_1\"\n",
            "_________________________________________________________________\n",
            " Layer (type)                Output Shape              Param #   \n",
            "=================================================================\n",
            " input_2 (InputLayer)        [(None, 32, 32, 3)]       0         \n",
            "                                                                 \n",
            " conv2d_3 (Conv2D)           (None, 32, 32, 6)         456       \n",
            "                                                                 \n",
            " max_pooling2d_2 (MaxPooling  (None, 16, 16, 6)        0         \n",
            " 2D)                                                             \n",
            "                                                                 \n",
            " conv2d_4 (Conv2D)           (None, 16, 16, 16)        2416      \n",
            "                                                                 \n",
            " max_pooling2d_3 (MaxPooling  (None, 8, 8, 16)         0         \n",
            " 2D)                                                             \n",
            "                                                                 \n",
            " conv2d_5 (Conv2D)           (None, 8, 8, 120)         48120     \n",
            "                                                                 \n",
            " flatten_1 (Flatten)         (None, 7680)              0         \n",
            "                                                                 \n",
            " dense_2 (Dense)             (None, 84)                645204    \n",
            "                                                                 \n",
            " dense_3 (Dense)             (None, 10)                850       \n",
            "                                                                 \n",
            "=================================================================\n",
            "Total params: 697,046\n",
            "Trainable params: 697,046\n",
            "Non-trainable params: 0\n",
            "_________________________________________________________________\n",
            "None\n",
            "Epoch 1/10\n",
            "196/196 [==============================] - 95s 480ms/step - loss: 3.4338 - acc: 0.2861 - val_loss: 1.6931 - val_acc: 0.3906\n",
            "Epoch 2/10\n",
            "196/196 [==============================] - 89s 456ms/step - loss: 1.5371 - acc: 0.4527 - val_loss: 1.4401 - val_acc: 0.4889\n",
            "Epoch 3/10\n",
            "196/196 [==============================] - 92s 471ms/step - loss: 1.3594 - acc: 0.5161 - val_loss: 1.3688 - val_acc: 0.5158\n",
            "Epoch 4/10\n",
            "196/196 [==============================] - 88s 451ms/step - loss: 1.2417 - acc: 0.5616 - val_loss: 1.3056 - val_acc: 0.5377\n",
            "Epoch 5/10\n",
            "196/196 [==============================] - 88s 451ms/step - loss: 1.1371 - acc: 0.5991 - val_loss: 1.3007 - val_acc: 0.5440\n",
            "Epoch 6/10\n",
            "196/196 [==============================] - 89s 455ms/step - loss: 1.0581 - acc: 0.6264 - val_loss: 1.3257 - val_acc: 0.5373\n",
            "Epoch 7/10\n",
            "196/196 [==============================] - 89s 453ms/step - loss: 0.9765 - acc: 0.6557 - val_loss: 1.3435 - val_acc: 0.5422\n",
            "Epoch 8/10\n",
            "196/196 [==============================] - 93s 473ms/step - loss: 0.8972 - acc: 0.6849 - val_loss: 1.3931 - val_acc: 0.5280\n",
            "Epoch 9/10\n",
            "196/196 [==============================] - 93s 474ms/step - loss: 0.8249 - acc: 0.7086 - val_loss: 1.4706 - val_acc: 0.5341\n",
            "Epoch 10/10\n",
            "196/196 [==============================] - 89s 454ms/step - loss: 0.7502 - acc: 0.7371 - val_loss: 1.4908 - val_acc: 0.5420\n"
          ]
        }
      ]
    },
    {
      "cell_type": "code",
      "source": [],
      "metadata": {
        "id": "zqPa89jisPhQ"
      },
      "execution_count": null,
      "outputs": []
    }
  ]
}