{
  "nbformat": 4,
  "nbformat_minor": 0,
  "metadata": {
    "colab": {
      "provenance": []
    },
    "kernelspec": {
      "name": "python3",
      "display_name": "Python 3"
    },
    "language_info": {
      "name": "python"
    }
  },
  "cells": [
    {
      "cell_type": "code",
      "execution_count": 1,
      "metadata": {
        "colab": {
          "base_uri": "https://localhost:8080/"
        },
        "id": "aTs5GIsq6S-A",
        "outputId": "5ae6f0c7-24a7-49c7-e21a-9cd05b4b252f"
      },
      "outputs": [
        {
          "output_type": "stream",
          "name": "stdout",
          "text": [
            "Predicted output:\n",
            "[[0.]\n",
            " [1.]\n",
            " [1.]\n",
            " [0.]]\n"
          ]
        }
      ],
      "source": [
        "import numpy as np\n",
        "\n",
        "# Sigmoid activation function\n",
        "def sigmoid(x):\n",
        "    return 1 / (1 + np.exp(-x))\n",
        "\n",
        "# Derivative of sigmoid function\n",
        "def sigmoid_derivative(x):\n",
        "    return x * (1 - x)\n",
        "\n",
        "# XOR dataset\n",
        "X = np.array([[0, 0], [0, 1], [1, 0], [1, 1]])\n",
        "y = np.array([[0], [1], [1], [0]])\n",
        "\n",
        "# Initialize random weights\n",
        "np.random.seed(1)\n",
        "weights1 = np.random.random((2, 4))\n",
        "weights2 = np.random.random((4, 1))\n",
        "\n",
        "# Training loop\n",
        "epochs = 10000\n",
        "learning_rate = 0.1\n",
        "\n",
        "for epoch in range(epochs):\n",
        "    # Forward propagation\n",
        "    layer1 = sigmoid(np.dot(X, weights1))\n",
        "    output = sigmoid(np.dot(layer1, weights2))\n",
        "    \n",
        "    # Backpropagation\n",
        "    error = y - output\n",
        "    output_delta = error * sigmoid_derivative(output)\n",
        "    \n",
        "    layer1_error = output_delta.dot(weights2.T)\n",
        "    layer1_delta = layer1_error * sigmoid_derivative(layer1)\n",
        "    \n",
        "    # Update weights\n",
        "    weights2 += layer1.T.dot(output_delta) * learning_rate\n",
        "    weights1 += X.T.dot(layer1_delta) * learning_rate\n",
        "\n",
        "# Test the trained network\n",
        "test_input = np.array([[0, 0], [0, 1], [1, 0], [1, 1]])\n",
        "test_output = sigmoid(np.dot(sigmoid(np.dot(test_input, weights1)), weights2))\n",
        "print(\"Predicted output:\")\n",
        "print(np.round(test_output))"
      ]
    }
  ]
}