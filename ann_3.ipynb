{
  "nbformat": 4,
  "nbformat_minor": 0,
  "metadata": {
    "colab": {
      "provenance": []
    },
    "kernelspec": {
      "name": "python3",
      "display_name": "Python 3"
    },
    "language_info": {
      "name": "python"
    }
  },
  "cells": [
    {
      "cell_type": "code",
      "source": [
        "import numpy as np\n",
        "\n",
        "# Define the Neural Network class\n",
        "class NeuralNetwork:\n",
        "    def __init__(self, input_size, hidden_size, output_size):\n",
        "        self.input_size = input_size\n",
        "        self.hidden_size = hidden_size\n",
        "        self.output_size = output_size\n",
        "\n",
        "        # Initialize random weights\n",
        "        self.weights1 = np.random.randn(self.input_size, self.hidden_size)\n",
        "        self.weights2 = np.random.randn(self.hidden_size, self.output_size)\n",
        "\n",
        "        # Initialize random biases\n",
        "        self.bias1 = np.random.randn(1, self.hidden_size)\n",
        "        self.bias2 = np.random.randn(1, self.output_size)\n",
        "\n",
        "    # Sigmoid activation function\n",
        "    def sigmoid(self, x):\n",
        "        return 1 / (1 + np.exp(-x))\n",
        "\n",
        "    # Feedforward propagation\n",
        "    def forward(self, X):\n",
        "        self.hidden_layer = self.sigmoid(np.dot(X, self.weights1) + self.bias1)\n",
        "        self.output_layer = self.sigmoid(np.dot(self.hidden_layer, self.weights2) + self.bias2)\n",
        "        return self.output_layer\n",
        "\n",
        "    # Backpropagation\n",
        "    def backward(self, X, y, output, learning_rate):\n",
        "        error = y - output\n",
        "\n",
        "        # Calculate gradients\n",
        "        output_delta = error * output * (1 - output)\n",
        "        hidden_layer_error = np.dot(output_delta, self.weights2.T)\n",
        "        hidden_layer_delta = hidden_layer_error * self.hidden_layer * (1 - self.hidden_layer)\n",
        "\n",
        "        # Update weights and biases\n",
        "        self.weights2 += np.dot(self.hidden_layer.T, output_delta) * learning_rate\n",
        "        self.weights1 += np.dot(X.T, hidden_layer_delta) * learning_rate\n",
        "        self.bias2 += np.sum(output_delta, axis=0) * learning_rate\n",
        "        self.bias1 += np.sum(hidden_layer_delta, axis=0) * learning_rate\n",
        "\n",
        "    # Train the neural network\n",
        "    def train(self, X, y, epochs, learning_rate):\n",
        "        for epoch in range(epochs):\n",
        "            output = self.forward(X)\n",
        "            self.backward(X, y, output, learning_rate)\n",
        "\n",
        "    # Make predictions\n",
        "    def predict(self, X):\n",
        "        output = self.forward(X)\n",
        "        return np.round(output)\n",
        "\n",
        "# XOR dataset\n",
        "X = np.array([[0, 0], [0, 1], [1, 0], [1, 1]])\n",
        "y = np.array([[0], [1], [1], [0]])\n",
        "\n",
        "# Create a neural network with 2 input neurons, 4 hidden neurons, and 1 output neuron\n",
        "nn = NeuralNetwork(2, 4, 1)\n",
        "\n",
        "# Train the neural network\n",
        "nn.train(X, y, epochs=10000, learning_rate=0.1)\n",
        "\n",
        "# Test the trained network\n",
        "test_input = np.array([[0, 0], [0, 1], [1, 0], [1, 1]])\n",
        "predictions = nn.predict(test_input)\n",
        "print(\"Predictions:\")\n",
        "print(predictions)"
      ],
      "metadata": {
        "colab": {
          "base_uri": "https://localhost:8080/"
        },
        "id": "c8xhLmb072xO",
        "outputId": "d5ad761a-9b9c-46ad-df75-a6d84525181b"
      },
      "execution_count": 1,
      "outputs": [
        {
          "output_type": "stream",
          "name": "stdout",
          "text": [
            "Predictions:\n",
            "[[0.]\n",
            " [1.]\n",
            " [1.]\n",
            " [0.]]\n"
          ]
        }
      ]
    }
  ]
}